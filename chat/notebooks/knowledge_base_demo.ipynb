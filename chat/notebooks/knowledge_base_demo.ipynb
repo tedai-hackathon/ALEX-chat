{
 "cells": [
  {
   "cell_type": "code",
   "execution_count": 11,
   "metadata": {},
   "outputs": [],
   "source": [
    "import dotenv\n",
    "dotenv.load_dotenv(dotenv_path='./.env')\n",
    "\n",
    "from knowledge_base import KnowledgeBase"
   ]
  },
  {
   "cell_type": "code",
   "execution_count": 12,
   "metadata": {},
   "outputs": [],
   "source": [
    "DOCS_DIR = \"docs\"\n",
    "DB_DIR = \"db\"\n",
    "URLS = [\n",
    "    \"https://apple.com\",\n",
    "]"
   ]
  },
  {
   "cell_type": "code",
   "execution_count": 13,
   "metadata": {},
   "outputs": [
    {
     "name": "stdout",
     "output_type": "stream",
     "text": [
      "['https://apple.com', 'https://support.apple.com/?cid=gn-ols-home-hp-tab', 'https://apple.com#footnote-1', 'https://card.apple.com/apply/application?referrer=cid%3Dapy-200-10000036&start=false', 'https://wallet.apple.com/apple-card/setup/feature/ccs?referrer=cid%3Dapy-200-10000036', 'https://support.apple.com/kb/HT209218', 'https://appleid.apple.com/us/', 'https://www.icloud.com', 'https://apps.apple.com/us/app/apple-store/id375380948', 'https://investor.apple.com/', 'https://locate.apple.com/']\n"
     ]
    }
   ],
   "source": [
    "knowledge_base = KnowledgeBase(docs_dir=DOCS_DIR, db_dir=DB_DIR, urls=URLS)"
   ]
  },
  {
   "cell_type": "code",
   "execution_count": 14,
   "metadata": {},
   "outputs": [
    {
     "data": {
      "text/plain": [
       "[Document(page_content='Apple\\n\\nApple\\n\\nAppleStoreMaciPadiPhoneWatchVisionAirPodsTV & HomeEntertainmentAccessoriesSupport\\n\\n0+\\n\\niPhone 15 Pro\\n\\nTitanium. So strong. So light. So Pro.\\n\\nLearn more\\n\\nBuy\\n\\niPhone 15\\n\\nNew camera. New design. Newphoria.\\n\\nLearn more\\n\\nBuy\\n\\nApple Watch Series 9\\n\\nSmarter. Brighter. Mightier.\\n\\nLearn more\\n\\nBuy\\n\\niPad Pro\\n\\nSupercharged by\\n\\nLearn more\\n\\nBuy\\n\\nApple Vision Pro\\n\\nWelcome to the era of spatial computing.\\n\\nAvailable early next year in the U.S.\\n\\nLearn more\\n\\nMacBook Air 15”\\n\\nImpressively big. Impossibly thin.\\n\\nLearn more\\n\\nBuy\\n\\nAirPods Pro\\n\\nAdaptive Audio. Now playing.\\n\\nLearn more\\n\\nBuy\\n\\nApple Trade In\\n\\nGet $200-$650 in credit when you trade in iPhone\\xa011 or higher.1\\n\\nSee what your device is worth\\n\\nApple Card\\n\\nGet up to 3% Daily\\xa0Cash back with every purchase.\\n\\nLearn more\\n\\nApply now\\n\\nApply now\\n\\nApple TV+\\n\\nApple Footer', metadata={'source': 'docs/Apple.txt'}),\n",
       " Document(page_content='iCloud', metadata={'source': 'docs/iCloud.txt'}),\n",
       " Document(page_content='â\\x80\\x8eApple Store on the AppÂ\\xa0Store\\n\\nExitAppleStoreMaciPadiPhoneWatchAirPodsTV & HomeEntertainmentAccessoriesSupport\\n\\n0+\\n\\nApp Store Preview\\n\\nApple Store\\n\\n4+\\n\\nShopping designed around you\\n\\nApple\\n\\n#87 in Shopping\\n\\n3.5 â\\x80¢ 101.4K Ratings\\n\\nFree\\n\\nScreenshots\\n\\niPhone\\n\\niPad\\n\\nApple Watch\\n\\niMessage\\n\\nDescription', metadata={'source': 'docs/_Apple_Store_on_the_App_Store_.txt'}),\n",
       " Document(page_content='Apple Store\\n\\n4+\\n\\nShopping designed around you\\n\\nApple\\n\\n#87 in Shopping\\n\\n3.5 â\\x80¢ 101.4K Ratings\\n\\nFree\\n\\nScreenshots\\n\\niPhone\\n\\niPad\\n\\nApple Watch\\n\\niMessage\\n\\nDescription\\n\\nThe Apple Store app provides a more personal way to shop for the latest Apple products and accessories. Get recommendations based on the Apple products you already own. Find out which accessories are compatible with your devices. Easily upgrade to a new iPhone from your current one. Keep track of your orders wherever you go. And sign up for hands-on sessions in store. You can even use Apple Pay to check out from your iPhone when you visit a participating Apple Store. Note that the Apple Store app and certain features are available only in select countries.How your data is usedTo confirm compatibility and recommend products, the app will access both the services and the name, model, and part number of devices linked to your Apple ID. To turn off this feature, go to Account > Settings > My Devices and Services.\\n\\nWhatâ\\x80\\x99s New', metadata={'source': 'docs/_Apple_Store_on_the_App_Store_.txt'})]"
      ]
     },
     "execution_count": 14,
     "metadata": {},
     "output_type": "execute_result"
    }
   ],
   "source": [
    "docs = knowledge_base.get_relevant_documents(\"What colors are the new iphone?\")\n",
    "docs"
   ]
  }
 ],
 "metadata": {
  "kernelspec": {
   "display_name": "alex",
   "language": "python",
   "name": "python3"
  },
  "language_info": {
   "codemirror_mode": {
    "name": "ipython",
    "version": 3
   },
   "file_extension": ".py",
   "mimetype": "text/x-python",
   "name": "python",
   "nbconvert_exporter": "python",
   "pygments_lexer": "ipython3",
   "version": "3.11.6"
  }
 },
 "nbformat": 4,
 "nbformat_minor": 2
}
