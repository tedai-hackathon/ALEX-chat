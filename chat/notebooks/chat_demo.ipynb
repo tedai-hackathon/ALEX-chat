{
 "cells": [
  {
   "cell_type": "code",
   "execution_count": 1,
   "metadata": {},
   "outputs": [],
   "source": [
    "import dotenv\n",
    "dotenv.load_dotenv(dotenv_path='./.env')\n",
    "\n",
    "from chat import Chat"
   ]
  },
  {
   "cell_type": "code",
   "execution_count": 2,
   "metadata": {},
   "outputs": [],
   "source": [
    "DOCS_DIR = \"docs\"\n",
    "DB_DIR = \"db\"\n",
    "URLS = [\n",
    "    \"https://apple.com\",\n",
    "    \"https://sos.wyo.gov/Business/docs/HowToCreateAWyomingCompany.pdf\"\n",
    "]"
   ]
  },
  {
   "cell_type": "code",
   "execution_count": 3,
   "metadata": {},
   "outputs": [],
   "source": [
    "chat = Chat(docs_dir=DOCS_DIR, db_dir=DB_DIR, urls=URLS)"
   ]
  },
  {
   "cell_type": "code",
   "execution_count": 6,
   "metadata": {},
   "outputs": [
    {
     "data": {
      "text/plain": [
       "'The latest iPhone model is the iPhone 15 Pro.\\n\\n\\nSources:\\ndocs/Apple.txt\\ndocs/_Apple_Store_on_the_App_Store_.txt\\ndocs/_Apple_Store_on_the_App_Store_.txt\\ndocs/iCloud.txt'"
      ]
     },
     "execution_count": 6,
     "metadata": {},
     "output_type": "execute_result"
    }
   ],
   "source": [
    "chat.chat(\"What is the latest iphone model?\")"
   ]
  },
  {
   "cell_type": "code",
   "execution_count": 5,
   "metadata": {},
   "outputs": [
    {
     "data": {
      "text/plain": [
       "'1. Choose an Entity Type: Decide what type of company (such as LLC, Corporation, Sole Proprietorship) you would like to form.\\n\\n2. Choose a Company Name: Select a name and then search to see if it is available. There are entity-specific name requirements.\\n\\n3. Find a Registered Agent: All business entities filed in Wyoming need a registered agent to accept service of process.\\n\\n4. Complete the Correct Form or File Online: Domestic Profit and Nonprofit Corporations, Domestic Limited Liability Companies, and Domestic Limited Partnerships can file online. For paper filing, forms can be found on the website.\\n\\n5. Pay the Filing Fees: The filing fee for most entities is $100.00; Nonprofit Corporations are $50.00.\\n\\n6. Wait for Processing Time: Paper filings take no longer than fifteen (15) business days. Online filings are active as soon as the online filing process is completed.\\n\\n7. Receive Filing Confirmation: Online filings receive a copy, certificate, and receipt available to download after payment. Paper filings receive an email with a copy, a certificate, and a receipt.\\n\\n8. Maintain Your Entity: Annual reports are due every year on the first day of the month in which the company was filed.\\n\\n\\nSources:\\ndocs/HowToCreateAWyomingCompany.pdf\\ndocs/HowToCreateAWyomingCompany.pdf\\ndocs/HowToCreateAWyomingCompany.pdf\\ndocs/Find_Locations.txt'"
      ]
     },
     "execution_count": 5,
     "metadata": {},
     "output_type": "execute_result"
    }
   ],
   "source": [
    "chat.chat(\"What are the steps for creating a company?\")"
   ]
  }
 ],
 "metadata": {
  "kernelspec": {
   "display_name": "alex",
   "language": "python",
   "name": "python3"
  },
  "language_info": {
   "codemirror_mode": {
    "name": "ipython",
    "version": 3
   },
   "file_extension": ".py",
   "mimetype": "text/x-python",
   "name": "python",
   "nbconvert_exporter": "python",
   "pygments_lexer": "ipython3",
   "version": "3.11.6"
  }
 },
 "nbformat": 4,
 "nbformat_minor": 2
}
